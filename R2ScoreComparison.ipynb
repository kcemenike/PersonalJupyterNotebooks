{
 "cells": [
  {
   "cell_type": "markdown",
   "metadata": {},
   "source": [
    "### Comparing R2Scores for different Scaling Techniques in an MSE Linear Regression model"
   ]
  },
  {
   "cell_type": "markdown",
   "metadata": {},
   "source": [
    "#### The goal of this function is to choose the best scikit-learn scaling method for an MSE LR model. The function returns the training vs test R-squared values (it is common practice that the test r2S should be as equal as the training r2S as possible for a higher predictive confidence level)"
   ]
  },
  {
   "cell_type": "code",
   "execution_count": null,
   "metadata": {},
   "outputs": [],
   "source": [
    "def r2S(scaler, DataFrame, test_size=0.2, random_state=21):\n",
    "    '''\n",
    "    Computes the R2Score based on a selected scale and dataframe.\n",
    "    Allows you to choose the best R2Score from a list of selected scaling techniques\n",
    "    scale is the exact name of a scikit-learn scale, e.g. MinMaxScaler\n",
    "    dfx is the DataFrame, assuming the last column is the target column\n",
    "    A list of possible scikit-learn scalers are below\n",
    "    RobustScaler\n",
    "    MinMaxScaler\n",
    "    MaxAbsScaler\n",
    "    StandardScaler\n",
    "    QuantileTransformer\n",
    "    Normalizer\n",
    "    \n",
    "    Defaults used\n",
    "    -------------\n",
    "    Learning rate: 0.1\n",
    "    LossType = Mean Squared Error\n",
    "    Number of Epochs = 20\n",
    "    Test_size (train_test_split) = 0.2\n",
    "    \n",
    "    Returns\n",
    "    -------\n",
    "    Returns the training r2Score and the test r2Scores as an array\n",
    "    \n",
    "    Examples\n",
    "    --------\n",
    "    >> df = pd.read_csv('sampledataFrame.csv')\n",
    "    >> r2S(RobustScaler,df)\n",
    "    [r2Score for training set, r2score for test set]\n",
    "    '''\n",
    "    %matplotlib inline\n",
    "    import pandas as pd, numpy as np, matplotlib.pyplot as plt\n",
    "\n",
    "    from sklearn.preprocessing import RobustScaler, MinMaxScaler, MaxAbsScaler, StandardScaler, QuantileTransformer, Normalizer\n",
    "    from sklearn.model_selection import train_test_split\n",
    "    from sklearn.metrics import r2_score\n",
    "\n",
    "    from keras.models import Sequential\n",
    "    from keras.layers import Dense\n",
    "    from keras.optimizers import Adam\n",
    "    for i in DataFrame.columns:\n",
    "        DataFrame[[i]] = scaler().fit_transform(DataFrame[[i]].values)\n",
    "    X = DataFrame[DataFrame.columns[:-1]]\n",
    "    y = DataFrame[DataFrame.columns[-1]]\n",
    "    \n",
    "    sq = Sequential()\n",
    "    sq.reset_states()\n",
    "    sq.add(Dense(1, input_shape=(len(DataFrame.columns)-1,)))\n",
    "    sq.compile(Adam(lr=0.1), loss='mean_squared_error')\n",
    "    \n",
    "    X_train, X_test, y_train, y_test = train_test_split(X, y, test_size=test_size, random_state=random_state)\n",
    "    sq.fit(X, y, epochs=20, verbose=0)\n",
    "    \n",
    "    return [r2_score(y_train, sq.predict(X_train)),r2_score(y_test, sq.predict(X_test))]"
   ]
  }
 ],
 "metadata": {
  "kernelspec": {
   "display_name": "Python 3",
   "language": "python",
   "name": "python3"
  },
  "language_info": {
   "codemirror_mode": {
    "name": "ipython",
    "version": 3
   },
   "file_extension": ".py",
   "mimetype": "text/x-python",
   "name": "python",
   "nbconvert_exporter": "python",
   "pygments_lexer": "ipython3",
   "version": "3.6.6"
  }
 },
 "nbformat": 4,
 "nbformat_minor": 2
}
