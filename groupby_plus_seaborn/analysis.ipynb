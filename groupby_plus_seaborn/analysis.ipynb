{
 "cells": [
  {
   "cell_type": "code",
   "execution_count": 1,
   "id": "round-selling",
   "metadata": {},
   "outputs": [],
   "source": [
    "import pandas as pd\n",
    "import seaborn as sns\n",
    "import matplotlib.pyplot as plt"
   ]
  },
  {
   "cell_type": "code",
   "execution_count": 2,
   "id": "demonstrated-future",
   "metadata": {},
   "outputs": [],
   "source": [
    "df = pd.read_parquet('sample.dat')"
   ]
  },
  {
   "cell_type": "code",
   "execution_count": 3,
   "id": "prescribed-student",
   "metadata": {},
   "outputs": [],
   "source": [
    "def out1(df, dt, dp=0):\n",
    "    '''\n",
    "    Input:\n",
    "        df: Any DataFrame with columns 'timestamp', 'price', 'volume'\n",
    "        dt: 'Timedelta in hh:mm:ss format'\n",
    "        dp: integer\n",
    "    Returns:\n",
    "        DataFrame with columns 't', 'p' and 'v'\n",
    "    Example:\n",
    "    df = pd.DataFrame([[\n",
    "      pd.to_datetime('2012-12-03 00:00:06'),\n",
    "      17212,\n",
    "      '1']],  columns=['timestamp', 'price', 'volume'])\n",
    "    dt = \"00:10:00\"\n",
    "    dp = 10\n",
    "    out1(df)\n",
    "    '''\n",
    "    dt = pd.Timedelta(dt)\n",
    "    df['price_group'] = (df['price']//dp*dp)\n",
    "    output1 = df.groupby([\n",
    "        pd.Grouper(key='timestamp', freq=pd.Timedelta('00:10:00')),\n",
    "        pd.Grouper(key='price_group') \n",
    "    ]).sum()[['volume']].reset_index().rename(columns={'timestamp': 't', 'price_group':'p', 'volume': 'v'})\n",
    "    output1['t'] = output1['t'].dt.time\n",
    "    output1['v'] = output1['v'].astype(int)\n",
    "    return output1"
   ]
  },
  {
   "cell_type": "code",
   "execution_count": 4,
   "id": "norman-violin",
   "metadata": {},
   "outputs": [],
   "source": [
    "def plot(df2, start, end):\n",
    "    '''\n",
    "    Input:\n",
    "        df2: output from out1(df, start, end)\n",
    "        start: string in format 'hh:mm:ss'\n",
    "        end: string in format 'hh:mm:ss'\n",
    "    Output:\n",
    "        plot: heatmap between start and end\n",
    "        data: DataFrame between start and end\n",
    "    '''\n",
    "    fig, ax = plt.subplots(figsize=(10,5))\n",
    "    mask = (\n",
    "        df2['t'].apply(lambda x: pd.Timestamp(x.strftime('%H:%M:%S')).time())>=pd.Timestamp(start).time()\n",
    "    ) &(\n",
    "        df2['t'].apply(lambda x: pd.Timestamp(x.strftime('%H:%M:%S')).time())<=pd.Timestamp(end).time()\n",
    "    )\n",
    "    data = df2[mask]\n",
    "    sns.heatmap(data=data.pivot('p', 't', 'v'), ax=ax, annot=True, fmt='g')\n",
    "    plt.show()\n",
    "    return data"
   ]
  },
  {
   "cell_type": "code",
   "execution_count": 5,
   "id": "understood-basics",
   "metadata": {},
   "outputs": [
    {
     "data": {
      "image/png": "[encoded data removed]",
      "text/plain": [
       "<Figure size 720x360 with 2 Axes>"
      ]
     },
     "metadata": {
      "needs_background": "light"
     },
     "output_type": "display_data"
    }
   ],
   "source": [
    "df2 = out1(df, dt=\"00:10:00\", dp=10)\n",
    "data = plot(df2, start=\"00:00:00\", end=\"00:40:00\")"
   ]
  },
  {
   "cell_type": "code",
   "execution_count": 6,
   "id": "engaging-incidence",
   "metadata": {},
   "outputs": [
    {
     "data": {
      "text/html": [
       "<div>\n",
       "<style scoped>\n",
       "    .dataframe tbody tr th:only-of-type {\n",
       "        vertical-align: middle;\n",
       "    }\n",
       "\n",
       "    .dataframe tbody tr th {\n",
       "        vertical-align: top;\n",
       "    }\n",
       "\n",
       "    .dataframe thead th {\n",
       "        text-align: right;\n",
       "    }\n",
       "</style>\n",
       "<table border=\"1\" class=\"dataframe\">\n",
       "  <thead>\n",
       "    <tr style=\"text-align: right;\">\n",
       "      <th></th>\n",
       "      <th>t</th>\n",
       "      <th>p</th>\n",
       "      <th>v</th>\n",
       "    </tr>\n",
       "  </thead>\n",
       "  <tbody>\n",
       "    <tr>\n",
       "      <th>0</th>\n",
       "      <td>00:00:00</td>\n",
       "      <td>17200</td>\n",
       "      <td>33</td>\n",
       "    </tr>\n",
       "    <tr>\n",
       "      <th>1</th>\n",
       "      <td>00:00:00</td>\n",
       "      <td>17210</td>\n",
       "      <td>145</td>\n",
       "    </tr>\n",
       "    <tr>\n",
       "      <th>2</th>\n",
       "      <td>00:10:00</td>\n",
       "      <td>17200</td>\n",
       "      <td>46</td>\n",
       "    </tr>\n",
       "    <tr>\n",
       "      <th>3</th>\n",
       "      <td>00:10:00</td>\n",
       "      <td>17210</td>\n",
       "      <td>186</td>\n",
       "    </tr>\n",
       "    <tr>\n",
       "      <th>4</th>\n",
       "      <td>00:20:00</td>\n",
       "      <td>17200</td>\n",
       "      <td>144</td>\n",
       "    </tr>\n",
       "    <tr>\n",
       "      <th>...</th>\n",
       "      <td>...</td>\n",
       "      <td>...</td>\n",
       "      <td>...</td>\n",
       "    </tr>\n",
       "    <tr>\n",
       "      <th>326</th>\n",
       "      <td>23:50:00</td>\n",
       "      <td>17010</td>\n",
       "      <td>524</td>\n",
       "    </tr>\n",
       "    <tr>\n",
       "      <th>327</th>\n",
       "      <td>23:50:00</td>\n",
       "      <td>17020</td>\n",
       "      <td>780</td>\n",
       "    </tr>\n",
       "    <tr>\n",
       "      <th>328</th>\n",
       "      <td>23:50:00</td>\n",
       "      <td>17030</td>\n",
       "      <td>918</td>\n",
       "    </tr>\n",
       "    <tr>\n",
       "      <th>329</th>\n",
       "      <td>23:50:00</td>\n",
       "      <td>17040</td>\n",
       "      <td>489</td>\n",
       "    </tr>\n",
       "    <tr>\n",
       "      <th>330</th>\n",
       "      <td>23:50:00</td>\n",
       "      <td>17050</td>\n",
       "      <td>269</td>\n",
       "    </tr>\n",
       "  </tbody>\n",
       "</table>\n",
       "<p>331 rows × 3 columns</p>\n",
       "</div>"
      ],
      "text/plain": [
       "            t      p    v\n",
       "0    00:00:00  17200   33\n",
       "1    00:00:00  17210  145\n",
       "2    00:10:00  17200   46\n",
       "3    00:10:00  17210  186\n",
       "4    00:20:00  17200  144\n",
       "..        ...    ...  ...\n",
       "326  23:50:00  17010  524\n",
       "327  23:50:00  17020  780\n",
       "328  23:50:00  17030  918\n",
       "329  23:50:00  17040  489\n",
       "330  23:50:00  17050  269\n",
       "\n",
       "[331 rows x 3 columns]"
      ]
     },
     "execution_count": 6,
     "metadata": {},
     "output_type": "execute_result"
    }
   ],
   "source": [
    "df2"
   ]
  },
  {
   "cell_type": "code",
   "execution_count": 7,
   "id": "cross-lotus",
   "metadata": {},
   "outputs": [
    {
     "data": {
      "text/html": [
       "<div>\n",
       "<style scoped>\n",
       "    .dataframe tbody tr th:only-of-type {\n",
       "        vertical-align: middle;\n",
       "    }\n",
       "\n",
       "    .dataframe tbody tr th {\n",
       "        vertical-align: top;\n",
       "    }\n",
       "\n",
       "    .dataframe thead th {\n",
       "        text-align: right;\n",
       "    }\n",
       "</style>\n",
       "<table border=\"1\" class=\"dataframe\">\n",
       "  <thead>\n",
       "    <tr style=\"text-align: right;\">\n",
       "      <th></th>\n",
       "      <th>t</th>\n",
       "      <th>p</th>\n",
       "      <th>v</th>\n",
       "    </tr>\n",
       "  </thead>\n",
       "  <tbody>\n",
       "    <tr>\n",
       "      <th>0</th>\n",
       "      <td>00:00:00</td>\n",
       "      <td>17200</td>\n",
       "      <td>33</td>\n",
       "    </tr>\n",
       "    <tr>\n",
       "      <th>1</th>\n",
       "      <td>00:00:00</td>\n",
       "      <td>17210</td>\n",
       "      <td>145</td>\n",
       "    </tr>\n",
       "    <tr>\n",
       "      <th>2</th>\n",
       "      <td>00:10:00</td>\n",
       "      <td>17200</td>\n",
       "      <td>46</td>\n",
       "    </tr>\n",
       "    <tr>\n",
       "      <th>3</th>\n",
       "      <td>00:10:00</td>\n",
       "      <td>17210</td>\n",
       "      <td>186</td>\n",
       "    </tr>\n",
       "    <tr>\n",
       "      <th>4</th>\n",
       "      <td>00:20:00</td>\n",
       "      <td>17200</td>\n",
       "      <td>144</td>\n",
       "    </tr>\n",
       "    <tr>\n",
       "      <th>5</th>\n",
       "      <td>00:20:00</td>\n",
       "      <td>17210</td>\n",
       "      <td>108</td>\n",
       "    </tr>\n",
       "    <tr>\n",
       "      <th>6</th>\n",
       "      <td>00:30:00</td>\n",
       "      <td>17200</td>\n",
       "      <td>193</td>\n",
       "    </tr>\n",
       "    <tr>\n",
       "      <th>7</th>\n",
       "      <td>00:30:00</td>\n",
       "      <td>17210</td>\n",
       "      <td>24</td>\n",
       "    </tr>\n",
       "    <tr>\n",
       "      <th>8</th>\n",
       "      <td>00:40:00</td>\n",
       "      <td>17200</td>\n",
       "      <td>191</td>\n",
       "    </tr>\n",
       "    <tr>\n",
       "      <th>9</th>\n",
       "      <td>00:40:00</td>\n",
       "      <td>17210</td>\n",
       "      <td>16</td>\n",
       "    </tr>\n",
       "  </tbody>\n",
       "</table>\n",
       "</div>"
      ],
      "text/plain": [
       "          t      p    v\n",
       "0  00:00:00  17200   33\n",
       "1  00:00:00  17210  145\n",
       "2  00:10:00  17200   46\n",
       "3  00:10:00  17210  186\n",
       "4  00:20:00  17200  144\n",
       "5  00:20:00  17210  108\n",
       "6  00:30:00  17200  193\n",
       "7  00:30:00  17210   24\n",
       "8  00:40:00  17200  191\n",
       "9  00:40:00  17210   16"
      ]
     },
     "execution_count": 7,
     "metadata": {},
     "output_type": "execute_result"
    }
   ],
   "source": [
    "data"
   ]
  },
  {
   "cell_type": "code",
   "execution_count": 8,
   "id": "collaborative-research",
   "metadata": {},
   "outputs": [
    {
     "data": {
      "image/png": "[encoded data removed]",
      "text/plain": [
       "<Figure size 720x360 with 1 Axes>"
      ]
     },
     "metadata": {
      "needs_background": "light"
     },
     "output_type": "display_data"
    }
   ],
   "source": [
    "fig, ax = plt.subplots(figsize=(10,5))"
   ]
  }
 ],
 "metadata": {
  "kernelspec": {
   "display_name": "Python 3",
   "language": "python",
   "name": "python3"
  },
  "language_info": {
   "codemirror_mode": {
    "name": "ipython",
    "version": 3
   },
   "file_extension": ".py",
   "mimetype": "text/x-python",
   "name": "python",
   "nbconvert_exporter": "python",
   "pygments_lexer": "ipython3",
   "version": "3.8.8"
  }
 },
 "nbformat": 4,
 "nbformat_minor": 5
}
